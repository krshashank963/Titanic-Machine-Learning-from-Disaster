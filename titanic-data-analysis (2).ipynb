{
 "cells": [
  {
   "cell_type": "code",
   "execution_count": 1,
   "metadata": {
    "_cell_guid": "b1076dfc-b9ad-4769-8c92-a6c4dae69d19",
    "_uuid": "8f2839f25d086af736a60e9eeb907d3b93b6e0e5",
    "execution": {
     "iopub.execute_input": "2020-09-29T06:03:09.660665Z",
     "iopub.status.busy": "2020-09-29T06:03:09.659538Z",
     "iopub.status.idle": "2020-09-29T06:03:09.665109Z",
     "shell.execute_reply": "2020-09-29T06:03:09.665613Z"
    },
    "papermill": {
     "duration": 0.055497,
     "end_time": "2020-09-29T06:03:09.665797",
     "exception": false,
     "start_time": "2020-09-29T06:03:09.610300",
     "status": "completed"
    },
    "tags": []
   },
   "outputs": [
    {
     "name": "stdout",
     "output_type": "stream",
     "text": [
      "/kaggle/input/titanic/train.csv\n",
      "/kaggle/input/titanic/gender_submission.csv\n",
      "/kaggle/input/titanic/test.csv\n"
     ]
    }
   ],
   "source": [
    "# This Python 3 environment comes with many helpful analytics libraries installed\n",
    "# It is defined by the kaggle/python Docker image: https://github.com/kaggle/docker-python\n",
    "# For example, here's several helpful packages to load\n",
    "\n",
    "import numpy as np # linear algebra\n",
    "import pandas as pd # data processing, CSV file I/O (e.g. pd.read_csv)\n",
    "\n",
    "# Input data files are available in the read-only \"../input/\" directory\n",
    "# For example, running this (by clicking run or pressing Shift+Enter) will list all files under the input directory\n",
    "\n",
    "import os\n",
    "for dirname, _, filenames in os.walk('/kaggle/input'):\n",
    "    for filename in filenames:\n",
    "        print(os.path.join(dirname, filename))\n",
    "\n",
    "# You can write up to 5GB to the current directory (/kaggle/working/) that gets preserved as output when you create a version using \"Save & Run All\" \n",
    "# You can also write temporary files to /kaggle/temp/, but they won't be saved outside of the current session"
   ]
  },
  {
   "cell_type": "markdown",
   "metadata": {
    "papermill": {
     "duration": 0.039137,
     "end_time": "2020-09-29T06:03:09.744715",
     "exception": false,
     "start_time": "2020-09-29T06:03:09.705578",
     "status": "completed"
    },
    "tags": []
   },
   "source": [
    "# Libraries"
   ]
  },
  {
   "cell_type": "code",
   "execution_count": 2,
   "metadata": {
    "execution": {
     "iopub.execute_input": "2020-09-29T06:03:09.827191Z",
     "iopub.status.busy": "2020-09-29T06:03:09.826438Z",
     "iopub.status.idle": "2020-09-29T06:03:11.058940Z",
     "shell.execute_reply": "2020-09-29T06:03:11.058175Z"
    },
    "papermill": {
     "duration": 1.274968,
     "end_time": "2020-09-29T06:03:11.059091",
     "exception": false,
     "start_time": "2020-09-29T06:03:09.784123",
     "status": "completed"
    },
    "tags": []
   },
   "outputs": [],
   "source": [
    "import numpy as np\n",
    "import pandas as pd\n",
    "\n",
    "#visualization libraries\n",
    "import matplotlib.pyplot as plt\n",
    "import seaborn as sns\n",
    "%matplotlib inline\n",
    "\n",
    "#ignore warnings\n",
    "import warnings\n",
    "warnings.filterwarnings('ignore')"
   ]
  },
  {
   "cell_type": "markdown",
   "metadata": {
    "papermill": {
     "duration": 0.03897,
     "end_time": "2020-09-29T06:03:11.138105",
     "exception": false,
     "start_time": "2020-09-29T06:03:11.099135",
     "status": "completed"
    },
    "tags": []
   },
   "source": [
    "# Data loading"
   ]
  },
  {
   "cell_type": "code",
   "execution_count": 3,
   "metadata": {
    "_cell_guid": "79c7e3d0-c299-4dcb-8224-4455121ee9b0",
    "_uuid": "d629ff2d2480ee46fbb7e2d37f6b5fab8052498a",
    "execution": {
     "iopub.execute_input": "2020-09-29T06:03:11.228594Z",
     "iopub.status.busy": "2020-09-29T06:03:11.227893Z",
     "iopub.status.idle": "2020-09-29T06:03:11.339577Z",
     "shell.execute_reply": "2020-09-29T06:03:11.338908Z"
    },
    "papermill": {
     "duration": 0.162475,
     "end_time": "2020-09-29T06:03:11.339733",
     "exception": false,
     "start_time": "2020-09-29T06:03:11.177258",
     "status": "completed"
    },
    "tags": []
   },
   "outputs": [
    {
     "data": {
      "text/html": [
       "<div>\n",
       "<style scoped>\n",
       "    .dataframe tbody tr th:only-of-type {\n",
       "        vertical-align: middle;\n",
       "    }\n",
       "\n",
       "    .dataframe tbody tr th {\n",
       "        vertical-align: top;\n",
       "    }\n",
       "\n",
       "    .dataframe thead th {\n",
       "        text-align: right;\n",
       "    }\n",
       "</style>\n",
       "<table border=\"1\" class=\"dataframe\">\n",
       "  <thead>\n",
       "    <tr style=\"text-align: right;\">\n",
       "      <th></th>\n",
       "      <th>PassengerId</th>\n",
       "      <th>Survived</th>\n",
       "      <th>Pclass</th>\n",
       "      <th>Name</th>\n",
       "      <th>Sex</th>\n",
       "      <th>Age</th>\n",
       "      <th>SibSp</th>\n",
       "      <th>Parch</th>\n",
       "      <th>Ticket</th>\n",
       "      <th>Fare</th>\n",
       "      <th>Cabin</th>\n",
       "      <th>Embarked</th>\n",
       "    </tr>\n",
       "  </thead>\n",
       "  <tbody>\n",
       "    <tr>\n",
       "      <th>count</th>\n",
       "      <td>891.000000</td>\n",
       "      <td>891.000000</td>\n",
       "      <td>891.000000</td>\n",
       "      <td>891</td>\n",
       "      <td>891</td>\n",
       "      <td>714.000000</td>\n",
       "      <td>891.000000</td>\n",
       "      <td>891.000000</td>\n",
       "      <td>891</td>\n",
       "      <td>891.000000</td>\n",
       "      <td>204</td>\n",
       "      <td>889</td>\n",
       "    </tr>\n",
       "    <tr>\n",
       "      <th>unique</th>\n",
       "      <td>NaN</td>\n",
       "      <td>NaN</td>\n",
       "      <td>NaN</td>\n",
       "      <td>891</td>\n",
       "      <td>2</td>\n",
       "      <td>NaN</td>\n",
       "      <td>NaN</td>\n",
       "      <td>NaN</td>\n",
       "      <td>681</td>\n",
       "      <td>NaN</td>\n",
       "      <td>147</td>\n",
       "      <td>3</td>\n",
       "    </tr>\n",
       "    <tr>\n",
       "      <th>top</th>\n",
       "      <td>NaN</td>\n",
       "      <td>NaN</td>\n",
       "      <td>NaN</td>\n",
       "      <td>Knight, Mr. Robert J</td>\n",
       "      <td>male</td>\n",
       "      <td>NaN</td>\n",
       "      <td>NaN</td>\n",
       "      <td>NaN</td>\n",
       "      <td>CA. 2343</td>\n",
       "      <td>NaN</td>\n",
       "      <td>C23 C25 C27</td>\n",
       "      <td>S</td>\n",
       "    </tr>\n",
       "    <tr>\n",
       "      <th>freq</th>\n",
       "      <td>NaN</td>\n",
       "      <td>NaN</td>\n",
       "      <td>NaN</td>\n",
       "      <td>1</td>\n",
       "      <td>577</td>\n",
       "      <td>NaN</td>\n",
       "      <td>NaN</td>\n",
       "      <td>NaN</td>\n",
       "      <td>7</td>\n",
       "      <td>NaN</td>\n",
       "      <td>4</td>\n",
       "      <td>644</td>\n",
       "    </tr>\n",
       "    <tr>\n",
       "      <th>mean</th>\n",
       "      <td>446.000000</td>\n",
       "      <td>0.383838</td>\n",
       "      <td>2.308642</td>\n",
       "      <td>NaN</td>\n",
       "      <td>NaN</td>\n",
       "      <td>29.699118</td>\n",
       "      <td>0.523008</td>\n",
       "      <td>0.381594</td>\n",
       "      <td>NaN</td>\n",
       "      <td>32.204208</td>\n",
       "      <td>NaN</td>\n",
       "      <td>NaN</td>\n",
       "    </tr>\n",
       "    <tr>\n",
       "      <th>std</th>\n",
       "      <td>257.353842</td>\n",
       "      <td>0.486592</td>\n",
       "      <td>0.836071</td>\n",
       "      <td>NaN</td>\n",
       "      <td>NaN</td>\n",
       "      <td>14.526497</td>\n",
       "      <td>1.102743</td>\n",
       "      <td>0.806057</td>\n",
       "      <td>NaN</td>\n",
       "      <td>49.693429</td>\n",
       "      <td>NaN</td>\n",
       "      <td>NaN</td>\n",
       "    </tr>\n",
       "    <tr>\n",
       "      <th>min</th>\n",
       "      <td>1.000000</td>\n",
       "      <td>0.000000</td>\n",
       "      <td>1.000000</td>\n",
       "      <td>NaN</td>\n",
       "      <td>NaN</td>\n",
       "      <td>0.420000</td>\n",
       "      <td>0.000000</td>\n",
       "      <td>0.000000</td>\n",
       "      <td>NaN</td>\n",
       "      <td>0.000000</td>\n",
       "      <td>NaN</td>\n",
       "      <td>NaN</td>\n",
       "    </tr>\n",
       "    <tr>\n",
       "      <th>25%</th>\n",
       "      <td>223.500000</td>\n",
       "      <td>0.000000</td>\n",
       "      <td>2.000000</td>\n",
       "      <td>NaN</td>\n",
       "      <td>NaN</td>\n",
       "      <td>20.125000</td>\n",
       "      <td>0.000000</td>\n",
       "      <td>0.000000</td>\n",
       "      <td>NaN</td>\n",
       "      <td>7.910400</td>\n",
       "      <td>NaN</td>\n",
       "      <td>NaN</td>\n",
       "    </tr>\n",
       "    <tr>\n",
       "      <th>50%</th>\n",
       "      <td>446.000000</td>\n",
       "      <td>0.000000</td>\n",
       "      <td>3.000000</td>\n",
       "      <td>NaN</td>\n",
       "      <td>NaN</td>\n",
       "      <td>28.000000</td>\n",
       "      <td>0.000000</td>\n",
       "      <td>0.000000</td>\n",
       "      <td>NaN</td>\n",
       "      <td>14.454200</td>\n",
       "      <td>NaN</td>\n",
       "      <td>NaN</td>\n",
       "    </tr>\n",
       "    <tr>\n",
       "      <th>75%</th>\n",
       "      <td>668.500000</td>\n",
       "      <td>1.000000</td>\n",
       "      <td>3.000000</td>\n",
       "      <td>NaN</td>\n",
       "      <td>NaN</td>\n",
       "      <td>38.000000</td>\n",
       "      <td>1.000000</td>\n",
       "      <td>0.000000</td>\n",
       "      <td>NaN</td>\n",
       "      <td>31.000000</td>\n",
       "      <td>NaN</td>\n",
       "      <td>NaN</td>\n",
       "    </tr>\n",
       "    <tr>\n",
       "      <th>max</th>\n",
       "      <td>891.000000</td>\n",
       "      <td>1.000000</td>\n",
       "      <td>3.000000</td>\n",
       "      <td>NaN</td>\n",
       "      <td>NaN</td>\n",
       "      <td>80.000000</td>\n",
       "      <td>8.000000</td>\n",
       "      <td>6.000000</td>\n",
       "      <td>NaN</td>\n",
       "      <td>512.329200</td>\n",
       "      <td>NaN</td>\n",
       "      <td>NaN</td>\n",
       "    </tr>\n",
       "  </tbody>\n",
       "</table>\n",
       "</div>"
      ],
      "text/plain": [
       "        PassengerId    Survived      Pclass                  Name   Sex  \\\n",
       "count    891.000000  891.000000  891.000000                   891   891   \n",
       "unique          NaN         NaN         NaN                   891     2   \n",
       "top             NaN         NaN         NaN  Knight, Mr. Robert J  male   \n",
       "freq            NaN         NaN         NaN                     1   577   \n",
       "mean     446.000000    0.383838    2.308642                   NaN   NaN   \n",
       "std      257.353842    0.486592    0.836071                   NaN   NaN   \n",
       "min        1.000000    0.000000    1.000000                   NaN   NaN   \n",
       "25%      223.500000    0.000000    2.000000                   NaN   NaN   \n",
       "50%      446.000000    0.000000    3.000000                   NaN   NaN   \n",
       "75%      668.500000    1.000000    3.000000                   NaN   NaN   \n",
       "max      891.000000    1.000000    3.000000                   NaN   NaN   \n",
       "\n",
       "               Age       SibSp       Parch    Ticket        Fare        Cabin  \\\n",
       "count   714.000000  891.000000  891.000000       891  891.000000          204   \n",
       "unique         NaN         NaN         NaN       681         NaN          147   \n",
       "top            NaN         NaN         NaN  CA. 2343         NaN  C23 C25 C27   \n",
       "freq           NaN         NaN         NaN         7         NaN            4   \n",
       "mean     29.699118    0.523008    0.381594       NaN   32.204208          NaN   \n",
       "std      14.526497    1.102743    0.806057       NaN   49.693429          NaN   \n",
       "min       0.420000    0.000000    0.000000       NaN    0.000000          NaN   \n",
       "25%      20.125000    0.000000    0.000000       NaN    7.910400          NaN   \n",
       "50%      28.000000    0.000000    0.000000       NaN   14.454200          NaN   \n",
       "75%      38.000000    1.000000    0.000000       NaN   31.000000          NaN   \n",
       "max      80.000000    8.000000    6.000000       NaN  512.329200          NaN   \n",
       "\n",
       "       Embarked  \n",
       "count       889  \n",
       "unique        3  \n",
       "top           S  \n",
       "freq        644  \n",
       "mean        NaN  \n",
       "std         NaN  \n",
       "min         NaN  \n",
       "25%         NaN  \n",
       "50%         NaN  \n",
       "75%         NaN  \n",
       "max         NaN  "
      ]
     },
     "execution_count": 3,
     "metadata": {},
     "output_type": "execute_result"
    }
   ],
   "source": [
    "train =pd.read_csv(\"../input/titanic/train.csv\")\n",
    "test =pd.read_csv(\"../input/titanic/test.csv\")\n",
    "\n",
    "train.describe(include='all')"
   ]
  },
  {
   "cell_type": "code",
   "execution_count": 4,
   "metadata": {
    "execution": {
     "iopub.execute_input": "2020-09-29T06:03:11.440892Z",
     "iopub.status.busy": "2020-09-29T06:03:11.439848Z",
     "iopub.status.idle": "2020-09-29T06:03:11.444899Z",
     "shell.execute_reply": "2020-09-29T06:03:11.444337Z"
    },
    "papermill": {
     "duration": 0.063854,
     "end_time": "2020-09-29T06:03:11.445015",
     "exception": false,
     "start_time": "2020-09-29T06:03:11.381161",
     "status": "completed"
    },
    "tags": []
   },
   "outputs": [
    {
     "data": {
      "text/html": [
       "<div>\n",
       "<style scoped>\n",
       "    .dataframe tbody tr th:only-of-type {\n",
       "        vertical-align: middle;\n",
       "    }\n",
       "\n",
       "    .dataframe tbody tr th {\n",
       "        vertical-align: top;\n",
       "    }\n",
       "\n",
       "    .dataframe thead th {\n",
       "        text-align: right;\n",
       "    }\n",
       "</style>\n",
       "<table border=\"1\" class=\"dataframe\">\n",
       "  <thead>\n",
       "    <tr style=\"text-align: right;\">\n",
       "      <th></th>\n",
       "      <th>PassengerId</th>\n",
       "      <th>Survived</th>\n",
       "      <th>Pclass</th>\n",
       "      <th>Name</th>\n",
       "      <th>Sex</th>\n",
       "      <th>Age</th>\n",
       "      <th>SibSp</th>\n",
       "      <th>Parch</th>\n",
       "      <th>Ticket</th>\n",
       "      <th>Fare</th>\n",
       "      <th>Cabin</th>\n",
       "      <th>Embarked</th>\n",
       "    </tr>\n",
       "  </thead>\n",
       "  <tbody>\n",
       "    <tr>\n",
       "      <th>0</th>\n",
       "      <td>1</td>\n",
       "      <td>0</td>\n",
       "      <td>3</td>\n",
       "      <td>Braund, Mr. Owen Harris</td>\n",
       "      <td>male</td>\n",
       "      <td>22.0</td>\n",
       "      <td>1</td>\n",
       "      <td>0</td>\n",
       "      <td>A/5 21171</td>\n",
       "      <td>7.2500</td>\n",
       "      <td>NaN</td>\n",
       "      <td>S</td>\n",
       "    </tr>\n",
       "    <tr>\n",
       "      <th>1</th>\n",
       "      <td>2</td>\n",
       "      <td>1</td>\n",
       "      <td>1</td>\n",
       "      <td>Cumings, Mrs. John Bradley (Florence Briggs Th...</td>\n",
       "      <td>female</td>\n",
       "      <td>38.0</td>\n",
       "      <td>1</td>\n",
       "      <td>0</td>\n",
       "      <td>PC 17599</td>\n",
       "      <td>71.2833</td>\n",
       "      <td>C85</td>\n",
       "      <td>C</td>\n",
       "    </tr>\n",
       "    <tr>\n",
       "      <th>2</th>\n",
       "      <td>3</td>\n",
       "      <td>1</td>\n",
       "      <td>3</td>\n",
       "      <td>Heikkinen, Miss. Laina</td>\n",
       "      <td>female</td>\n",
       "      <td>26.0</td>\n",
       "      <td>0</td>\n",
       "      <td>0</td>\n",
       "      <td>STON/O2. 3101282</td>\n",
       "      <td>7.9250</td>\n",
       "      <td>NaN</td>\n",
       "      <td>S</td>\n",
       "    </tr>\n",
       "    <tr>\n",
       "      <th>3</th>\n",
       "      <td>4</td>\n",
       "      <td>1</td>\n",
       "      <td>1</td>\n",
       "      <td>Futrelle, Mrs. Jacques Heath (Lily May Peel)</td>\n",
       "      <td>female</td>\n",
       "      <td>35.0</td>\n",
       "      <td>1</td>\n",
       "      <td>0</td>\n",
       "      <td>113803</td>\n",
       "      <td>53.1000</td>\n",
       "      <td>C123</td>\n",
       "      <td>S</td>\n",
       "    </tr>\n",
       "    <tr>\n",
       "      <th>4</th>\n",
       "      <td>5</td>\n",
       "      <td>0</td>\n",
       "      <td>3</td>\n",
       "      <td>Allen, Mr. William Henry</td>\n",
       "      <td>male</td>\n",
       "      <td>35.0</td>\n",
       "      <td>0</td>\n",
       "      <td>0</td>\n",
       "      <td>373450</td>\n",
       "      <td>8.0500</td>\n",
       "      <td>NaN</td>\n",
       "      <td>S</td>\n",
       "    </tr>\n",
       "  </tbody>\n",
       "</table>\n",
       "</div>"
      ],
      "text/plain": [
       "   PassengerId  Survived  Pclass  \\\n",
       "0            1         0       3   \n",
       "1            2         1       1   \n",
       "2            3         1       3   \n",
       "3            4         1       1   \n",
       "4            5         0       3   \n",
       "\n",
       "                                                Name     Sex   Age  SibSp  \\\n",
       "0                            Braund, Mr. Owen Harris    male  22.0      1   \n",
       "1  Cumings, Mrs. John Bradley (Florence Briggs Th...  female  38.0      1   \n",
       "2                             Heikkinen, Miss. Laina  female  26.0      0   \n",
       "3       Futrelle, Mrs. Jacques Heath (Lily May Peel)  female  35.0      1   \n",
       "4                           Allen, Mr. William Henry    male  35.0      0   \n",
       "\n",
       "   Parch            Ticket     Fare Cabin Embarked  \n",
       "0      0         A/5 21171   7.2500   NaN        S  \n",
       "1      0          PC 17599  71.2833   C85        C  \n",
       "2      0  STON/O2. 3101282   7.9250   NaN        S  \n",
       "3      0            113803  53.1000  C123        S  \n",
       "4      0            373450   8.0500   NaN        S  "
      ]
     },
     "execution_count": 4,
     "metadata": {},
     "output_type": "execute_result"
    }
   ],
   "source": [
    "train.head(5)"
   ]
  },
  {
   "cell_type": "code",
   "execution_count": 5,
   "metadata": {
    "execution": {
     "iopub.execute_input": "2020-09-29T06:03:11.544063Z",
     "iopub.status.busy": "2020-09-29T06:03:11.543350Z",
     "iopub.status.idle": "2020-09-29T06:03:11.548129Z",
     "shell.execute_reply": "2020-09-29T06:03:11.547547Z"
    },
    "papermill": {
     "duration": 0.061543,
     "end_time": "2020-09-29T06:03:11.548259",
     "exception": false,
     "start_time": "2020-09-29T06:03:11.486716",
     "status": "completed"
    },
    "tags": []
   },
   "outputs": [
    {
     "name": "stdout",
     "output_type": "stream",
     "text": [
      "<class 'pandas.core.frame.DataFrame'>\n",
      "RangeIndex: 891 entries, 0 to 890\n",
      "Data columns (total 12 columns):\n",
      " #   Column       Non-Null Count  Dtype  \n",
      "---  ------       --------------  -----  \n",
      " 0   PassengerId  891 non-null    int64  \n",
      " 1   Survived     891 non-null    int64  \n",
      " 2   Pclass       891 non-null    int64  \n",
      " 3   Name         891 non-null    object \n",
      " 4   Sex          891 non-null    object \n",
      " 5   Age          714 non-null    float64\n",
      " 6   SibSp        891 non-null    int64  \n",
      " 7   Parch        891 non-null    int64  \n",
      " 8   Ticket       891 non-null    object \n",
      " 9   Fare         891 non-null    float64\n",
      " 10  Cabin        204 non-null    object \n",
      " 11  Embarked     889 non-null    object \n",
      "dtypes: float64(2), int64(5), object(5)\n",
      "memory usage: 83.7+ KB\n"
     ]
    }
   ],
   "source": [
    "train.info()"
   ]
  },
  {
   "cell_type": "code",
   "execution_count": 6,
   "metadata": {
    "execution": {
     "iopub.execute_input": "2020-09-29T06:03:11.642894Z",
     "iopub.status.busy": "2020-09-29T06:03:11.641887Z",
     "iopub.status.idle": "2020-09-29T06:03:11.646439Z",
     "shell.execute_reply": "2020-09-29T06:03:11.645811Z"
    },
    "papermill": {
     "duration": 0.05539,
     "end_time": "2020-09-29T06:03:11.646551",
     "exception": false,
     "start_time": "2020-09-29T06:03:11.591161",
     "status": "completed"
    },
    "tags": []
   },
   "outputs": [
    {
     "data": {
      "text/plain": [
       "PassengerId      0\n",
       "Survived         0\n",
       "Pclass           0\n",
       "Name             0\n",
       "Sex              0\n",
       "Age            177\n",
       "SibSp            0\n",
       "Parch            0\n",
       "Ticket           0\n",
       "Fare             0\n",
       "Cabin          687\n",
       "Embarked         2\n",
       "dtype: int64"
      ]
     },
     "execution_count": 6,
     "metadata": {},
     "output_type": "execute_result"
    }
   ],
   "source": [
    "train.isnull().sum()"
   ]
  },
  {
   "cell_type": "markdown",
   "metadata": {
    "papermill": {
     "duration": 0.050591,
     "end_time": "2020-09-29T06:03:11.750559",
     "exception": false,
     "start_time": "2020-09-29T06:03:11.699968",
     "status": "completed"
    },
    "tags": []
   },
   "source": [
    "# Visulaization"
   ]
  },
  {
   "cell_type": "markdown",
   "metadata": {
    "papermill": {
     "duration": 0.048007,
     "end_time": "2020-09-29T06:03:11.852076",
     "exception": false,
     "start_time": "2020-09-29T06:03:11.804069",
     "status": "completed"
    },
    "tags": []
   },
   "source": [
    "# Compare survived people according to their sex and we can see that female servived more."
   ]
  },
  {
   "cell_type": "code",
   "execution_count": 7,
   "metadata": {
    "execution": {
     "iopub.execute_input": "2020-09-29T06:03:11.944055Z",
     "iopub.status.busy": "2020-09-29T06:03:11.943298Z",
     "iopub.status.idle": "2020-09-29T06:03:12.209086Z",
     "shell.execute_reply": "2020-09-29T06:03:12.208364Z"
    },
    "papermill": {
     "duration": 0.314877,
     "end_time": "2020-09-29T06:03:12.209204",
     "exception": false,
     "start_time": "2020-09-29T06:03:11.894327",
     "status": "completed"
    },
    "tags": []
   },
   "outputs": [
    {
     "data": {
      "text/plain": [
       "<matplotlib.axes._subplots.AxesSubplot at 0x7f92aa328ad0>"
      ]
     },
     "execution_count": 7,
     "metadata": {},
     "output_type": "execute_result"
    },
    {
     "data": {
      "image/png": "[encoded data removed]",
      "text/plain": [
       "<Figure size 432x288 with 1 Axes>"
      ]
     },
     "metadata": {
      "needs_background": "light"
     },
     "output_type": "display_data"
    }
   ],
   "source": [
    "sns.barplot(x=\"Sex\", y=\"Survived\", data=train)"
   ]
  },
  {
   "cell_type": "markdown",
   "metadata": {
    "papermill": {
     "duration": 0.042679,
     "end_time": "2020-09-29T06:03:12.294794",
     "exception": false,
     "start_time": "2020-09-29T06:03:12.252115",
     "status": "completed"
    },
    "tags": []
   },
   "source": [
    "# As predicted, people with higher socioeconomic class had a higher rate of survival."
   ]
  },
  {
   "cell_type": "code",
   "execution_count": 8,
   "metadata": {
    "execution": {
     "iopub.execute_input": "2020-09-29T06:03:12.395897Z",
     "iopub.status.busy": "2020-09-29T06:03:12.395189Z",
     "iopub.status.idle": "2020-09-29T06:03:12.651852Z",
     "shell.execute_reply": "2020-09-29T06:03:12.651242Z"
    },
    "papermill": {
     "duration": 0.313597,
     "end_time": "2020-09-29T06:03:12.651983",
     "exception": false,
     "start_time": "2020-09-29T06:03:12.338386",
     "status": "completed"
    },
    "tags": []
   },
   "outputs": [
    {
     "data": {
      "text/plain": [
       "<matplotlib.axes._subplots.AxesSubplot at 0x7f92a80ed850>"
      ]
     },
     "execution_count": 8,
     "metadata": {},
     "output_type": "execute_result"
    },
    {
     "data": {
      "image/png": "[encoded data removed]",
      "text/plain": [
       "<Figure size 432x288 with 1 Axes>"
      ]
     },
     "metadata": {
      "needs_background": "light"
     },
     "output_type": "display_data"
    }
   ],
   "source": [
    "sns.barplot(x=\"Pclass\", y=\"Survived\", data=train)"
   ]
  },
  {
   "cell_type": "markdown",
   "metadata": {
    "papermill": {
     "duration": 0.044228,
     "end_time": "2020-09-29T06:03:12.740805",
     "exception": false,
     "start_time": "2020-09-29T06:03:12.696577",
     "status": "completed"
    },
    "tags": []
   },
   "source": [
    "#  general, it's clear that people with more siblings or spouses aboard were less likely to survive. However, contrary to expectations, people with no siblings or spouses were less to likely to survive than those with one or two"
   ]
  },
  {
   "cell_type": "code",
   "execution_count": 9,
   "metadata": {
    "execution": {
     "iopub.execute_input": "2020-09-29T06:03:12.840405Z",
     "iopub.status.busy": "2020-09-29T06:03:12.837221Z",
     "iopub.status.idle": "2020-09-29T06:03:13.243711Z",
     "shell.execute_reply": "2020-09-29T06:03:13.242977Z"
    },
    "papermill": {
     "duration": 0.458893,
     "end_time": "2020-09-29T06:03:13.243836",
     "exception": false,
     "start_time": "2020-09-29T06:03:12.784943",
     "status": "completed"
    },
    "tags": []
   },
   "outputs": [
    {
     "data": {
      "text/plain": [
       "<matplotlib.axes._subplots.AxesSubplot at 0x7f92a8069c90>"
      ]
     },
     "execution_count": 9,
     "metadata": {},
     "output_type": "execute_result"
    },
    {
     "data": {
      "image/png": "[encoded data removed]",
      "text/plain": [
       "<Figure size 432x288 with 1 Axes>"
      ]
     },
     "metadata": {
      "needs_background": "light"
     },
     "output_type": "display_data"
    }
   ],
   "source": [
    "sns.barplot(x=\"SibSp\", y=\"Survived\", data=train)"
   ]
  },
  {
   "cell_type": "markdown",
   "metadata": {
    "papermill": {
     "duration": 0.045579,
     "end_time": "2020-09-29T06:03:13.340174",
     "exception": false,
     "start_time": "2020-09-29T06:03:13.294595",
     "status": "completed"
    },
    "tags": []
   },
   "source": [
    "# People with less than four parents or children aboard are more likely to survive than those with four or more. Again, people traveling alone are less likely to survive than those with 1-3 parents or children."
   ]
  },
  {
   "cell_type": "code",
   "execution_count": 10,
   "metadata": {
    "execution": {
     "iopub.execute_input": "2020-09-29T06:03:13.444796Z",
     "iopub.status.busy": "2020-09-29T06:03:13.439930Z",
     "iopub.status.idle": "2020-09-29T06:03:13.810935Z",
     "shell.execute_reply": "2020-09-29T06:03:13.811521Z"
    },
    "papermill": {
     "duration": 0.425875,
     "end_time": "2020-09-29T06:03:13.811694",
     "exception": false,
     "start_time": "2020-09-29T06:03:13.385819",
     "status": "completed"
    },
    "tags": []
   },
   "outputs": [
    {
     "data": {
      "image/png": "[encoded data removed]",
      "text/plain": [
       "<Figure size 432x288 with 1 Axes>"
      ]
     },
     "metadata": {
      "needs_background": "light"
     },
     "output_type": "display_data"
    }
   ],
   "source": [
    "sns.barplot(x=\"Parch\", y=\"Survived\", data=train)\n",
    "plt.show()"
   ]
  },
  {
   "cell_type": "markdown",
   "metadata": {
    "papermill": {
     "duration": 0.048399,
     "end_time": "2020-09-29T06:03:13.912603",
     "exception": false,
     "start_time": "2020-09-29T06:03:13.864204",
     "status": "completed"
    },
    "tags": []
   },
   "source": [
    "# People with a recorded Cabin number are, in fact, more likely to survive"
   ]
  },
  {
   "cell_type": "code",
   "execution_count": 11,
   "metadata": {
    "execution": {
     "iopub.execute_input": "2020-09-29T06:03:14.009050Z",
     "iopub.status.busy": "2020-09-29T06:03:14.008324Z",
     "iopub.status.idle": "2020-09-29T06:03:14.208840Z",
     "shell.execute_reply": "2020-09-29T06:03:14.209345Z"
    },
    "papermill": {
     "duration": 0.249652,
     "end_time": "2020-09-29T06:03:14.209499",
     "exception": false,
     "start_time": "2020-09-29T06:03:13.959847",
     "status": "completed"
    },
    "tags": []
   },
   "outputs": [
    {
     "data": {
      "image/png": "[encoded data removed]",
      "text/plain": [
       "<Figure size 432x288 with 1 Axes>"
      ]
     },
     "metadata": {
      "needs_background": "light"
     },
     "output_type": "display_data"
    }
   ],
   "source": [
    "train['CabinBool']=train[\"Cabin\"].notnull()\n",
    "test['CabinBool']=test[\"Cabin\"].notnull()\n",
    "sns.barplot(x=\"CabinBool\", y=\"Survived\", data=train)\n",
    "plt.show()"
   ]
  },
  {
   "cell_type": "markdown",
   "metadata": {
    "papermill": {
     "duration": 0.046294,
     "end_time": "2020-09-29T06:03:14.302488",
     "exception": false,
     "start_time": "2020-09-29T06:03:14.256194",
     "status": "completed"
    },
    "tags": []
   },
   "source": [
    "# Data Cleaning"
   ]
  },
  {
   "cell_type": "code",
   "execution_count": 12,
   "metadata": {
    "execution": {
     "iopub.execute_input": "2020-09-29T06:03:14.399578Z",
     "iopub.status.busy": "2020-09-29T06:03:14.398945Z",
     "iopub.status.idle": "2020-09-29T06:03:14.414734Z",
     "shell.execute_reply": "2020-09-29T06:03:14.413683Z"
    },
    "papermill": {
     "duration": 0.065904,
     "end_time": "2020-09-29T06:03:14.414921",
     "exception": false,
     "start_time": "2020-09-29T06:03:14.349017",
     "status": "completed"
    },
    "tags": []
   },
   "outputs": [
    {
     "name": "stdout",
     "output_type": "stream",
     "text": [
      "<class 'pandas.core.frame.DataFrame'>\n",
      "RangeIndex: 891 entries, 0 to 890\n",
      "Data columns (total 13 columns):\n",
      " #   Column       Non-Null Count  Dtype  \n",
      "---  ------       --------------  -----  \n",
      " 0   PassengerId  891 non-null    int64  \n",
      " 1   Survived     891 non-null    int64  \n",
      " 2   Pclass       891 non-null    int64  \n",
      " 3   Name         891 non-null    object \n",
      " 4   Sex          891 non-null    object \n",
      " 5   Age          714 non-null    float64\n",
      " 6   SibSp        891 non-null    int64  \n",
      " 7   Parch        891 non-null    int64  \n",
      " 8   Ticket       891 non-null    object \n",
      " 9   Fare         891 non-null    float64\n",
      " 10  Cabin        204 non-null    object \n",
      " 11  Embarked     889 non-null    object \n",
      " 12  CabinBool    891 non-null    bool   \n",
      "dtypes: bool(1), float64(2), int64(5), object(5)\n",
      "memory usage: 84.5+ KB\n"
     ]
    }
   ],
   "source": [
    "train.info()"
   ]
  },
  {
   "cell_type": "markdown",
   "metadata": {
    "papermill": {
     "duration": 0.046815,
     "end_time": "2020-09-29T06:03:14.515035",
     "exception": false,
     "start_time": "2020-09-29T06:03:14.468220",
     "status": "completed"
    },
    "tags": []
   },
   "source": [
    "# Embarked Feature"
   ]
  },
  {
   "cell_type": "code",
   "execution_count": 13,
   "metadata": {
    "execution": {
     "iopub.execute_input": "2020-09-29T06:03:14.619456Z",
     "iopub.status.busy": "2020-09-29T06:03:14.618814Z",
     "iopub.status.idle": "2020-09-29T06:03:14.621504Z",
     "shell.execute_reply": "2020-09-29T06:03:14.622114Z"
    },
    "papermill": {
     "duration": 0.059771,
     "end_time": "2020-09-29T06:03:14.622275",
     "exception": false,
     "start_time": "2020-09-29T06:03:14.562504",
     "status": "completed"
    },
    "tags": []
   },
   "outputs": [
    {
     "name": "stdout",
     "output_type": "stream",
     "text": [
      "644\n",
      "168\n",
      "77\n"
     ]
    }
   ],
   "source": [
    "print(train.Embarked [train.Embarked == 'S'].count())\n",
    "print(train.Embarked [train.Embarked == 'C'].count())\n",
    "print(train.Embarked [train.Embarked == 'Q'].count())"
   ]
  },
  {
   "cell_type": "markdown",
   "metadata": {
    "papermill": {
     "duration": 0.05317,
     "end_time": "2020-09-29T06:03:14.725925",
     "exception": false,
     "start_time": "2020-09-29T06:03:14.672755",
     "status": "completed"
    },
    "tags": []
   },
   "source": [
    "## Fill NAN with majority value  which is \"S\""
   ]
  },
  {
   "cell_type": "code",
   "execution_count": 14,
   "metadata": {
    "execution": {
     "iopub.execute_input": "2020-09-29T06:03:14.835236Z",
     "iopub.status.busy": "2020-09-29T06:03:14.834148Z",
     "iopub.status.idle": "2020-09-29T06:03:14.852474Z",
     "shell.execute_reply": "2020-09-29T06:03:14.851900Z"
    },
    "papermill": {
     "duration": 0.07892,
     "end_time": "2020-09-29T06:03:14.852593",
     "exception": false,
     "start_time": "2020-09-29T06:03:14.773673",
     "status": "completed"
    },
    "tags": []
   },
   "outputs": [
    {
     "data": {
      "text/html": [
       "<div>\n",
       "<style scoped>\n",
       "    .dataframe tbody tr th:only-of-type {\n",
       "        vertical-align: middle;\n",
       "    }\n",
       "\n",
       "    .dataframe tbody tr th {\n",
       "        vertical-align: top;\n",
       "    }\n",
       "\n",
       "    .dataframe thead th {\n",
       "        text-align: right;\n",
       "    }\n",
       "</style>\n",
       "<table border=\"1\" class=\"dataframe\">\n",
       "  <thead>\n",
       "    <tr style=\"text-align: right;\">\n",
       "      <th></th>\n",
       "      <th>PassengerId</th>\n",
       "      <th>Survived</th>\n",
       "      <th>Pclass</th>\n",
       "      <th>Name</th>\n",
       "      <th>Sex</th>\n",
       "      <th>Age</th>\n",
       "      <th>SibSp</th>\n",
       "      <th>Parch</th>\n",
       "      <th>Ticket</th>\n",
       "      <th>Fare</th>\n",
       "      <th>Cabin</th>\n",
       "      <th>Embarked</th>\n",
       "      <th>CabinBool</th>\n",
       "    </tr>\n",
       "  </thead>\n",
       "  <tbody>\n",
       "    <tr>\n",
       "      <th>0</th>\n",
       "      <td>1</td>\n",
       "      <td>0</td>\n",
       "      <td>3</td>\n",
       "      <td>Braund, Mr. Owen Harris</td>\n",
       "      <td>male</td>\n",
       "      <td>22.0</td>\n",
       "      <td>1</td>\n",
       "      <td>0</td>\n",
       "      <td>A/5 21171</td>\n",
       "      <td>7.2500</td>\n",
       "      <td>NaN</td>\n",
       "      <td>1</td>\n",
       "      <td>False</td>\n",
       "    </tr>\n",
       "    <tr>\n",
       "      <th>1</th>\n",
       "      <td>2</td>\n",
       "      <td>1</td>\n",
       "      <td>1</td>\n",
       "      <td>Cumings, Mrs. John Bradley (Florence Briggs Th...</td>\n",
       "      <td>female</td>\n",
       "      <td>38.0</td>\n",
       "      <td>1</td>\n",
       "      <td>0</td>\n",
       "      <td>PC 17599</td>\n",
       "      <td>71.2833</td>\n",
       "      <td>C85</td>\n",
       "      <td>2</td>\n",
       "      <td>True</td>\n",
       "    </tr>\n",
       "    <tr>\n",
       "      <th>2</th>\n",
       "      <td>3</td>\n",
       "      <td>1</td>\n",
       "      <td>3</td>\n",
       "      <td>Heikkinen, Miss. Laina</td>\n",
       "      <td>female</td>\n",
       "      <td>26.0</td>\n",
       "      <td>0</td>\n",
       "      <td>0</td>\n",
       "      <td>STON/O2. 3101282</td>\n",
       "      <td>7.9250</td>\n",
       "      <td>NaN</td>\n",
       "      <td>1</td>\n",
       "      <td>False</td>\n",
       "    </tr>\n",
       "    <tr>\n",
       "      <th>3</th>\n",
       "      <td>4</td>\n",
       "      <td>1</td>\n",
       "      <td>1</td>\n",
       "      <td>Futrelle, Mrs. Jacques Heath (Lily May Peel)</td>\n",
       "      <td>female</td>\n",
       "      <td>35.0</td>\n",
       "      <td>1</td>\n",
       "      <td>0</td>\n",
       "      <td>113803</td>\n",
       "      <td>53.1000</td>\n",
       "      <td>C123</td>\n",
       "      <td>1</td>\n",
       "      <td>True</td>\n",
       "    </tr>\n",
       "    <tr>\n",
       "      <th>4</th>\n",
       "      <td>5</td>\n",
       "      <td>0</td>\n",
       "      <td>3</td>\n",
       "      <td>Allen, Mr. William Henry</td>\n",
       "      <td>male</td>\n",
       "      <td>35.0</td>\n",
       "      <td>0</td>\n",
       "      <td>0</td>\n",
       "      <td>373450</td>\n",
       "      <td>8.0500</td>\n",
       "      <td>NaN</td>\n",
       "      <td>1</td>\n",
       "      <td>False</td>\n",
       "    </tr>\n",
       "  </tbody>\n",
       "</table>\n",
       "</div>"
      ],
      "text/plain": [
       "   PassengerId  Survived  Pclass  \\\n",
       "0            1         0       3   \n",
       "1            2         1       1   \n",
       "2            3         1       3   \n",
       "3            4         1       1   \n",
       "4            5         0       3   \n",
       "\n",
       "                                                Name     Sex   Age  SibSp  \\\n",
       "0                            Braund, Mr. Owen Harris    male  22.0      1   \n",
       "1  Cumings, Mrs. John Bradley (Florence Briggs Th...  female  38.0      1   \n",
       "2                             Heikkinen, Miss. Laina  female  26.0      0   \n",
       "3       Futrelle, Mrs. Jacques Heath (Lily May Peel)  female  35.0      1   \n",
       "4                           Allen, Mr. William Henry    male  35.0      0   \n",
       "\n",
       "   Parch            Ticket     Fare Cabin  Embarked  CabinBool  \n",
       "0      0         A/5 21171   7.2500   NaN         1      False  \n",
       "1      0          PC 17599  71.2833   C85         2       True  \n",
       "2      0  STON/O2. 3101282   7.9250   NaN         1      False  \n",
       "3      0            113803  53.1000  C123         1       True  \n",
       "4      0            373450   8.0500   NaN         1      False  "
      ]
     },
     "execution_count": 14,
     "metadata": {},
     "output_type": "execute_result"
    }
   ],
   "source": [
    "train = train.fillna({\"Embarked\": \"S\"})\n",
    "\n",
    "embarked_mapping = {\"S\": 1, \"C\": 2, \"Q\": 3}\n",
    "train['Embarked'] = train['Embarked'].map(embarked_mapping)\n",
    "test['Embarked'] = test['Embarked'].map(embarked_mapping)\n",
    "\n",
    "train.head()"
   ]
  },
  {
   "cell_type": "markdown",
   "metadata": {
    "papermill": {
     "duration": 0.049083,
     "end_time": "2020-09-29T06:03:14.950705",
     "exception": false,
     "start_time": "2020-09-29T06:03:14.901622",
     "status": "completed"
    },
    "tags": []
   },
   "source": [
    "# sex feature"
   ]
  },
  {
   "cell_type": "code",
   "execution_count": 15,
   "metadata": {
    "execution": {
     "iopub.execute_input": "2020-09-29T06:03:15.071620Z",
     "iopub.status.busy": "2020-09-29T06:03:15.070772Z",
     "iopub.status.idle": "2020-09-29T06:03:15.075592Z",
     "shell.execute_reply": "2020-09-29T06:03:15.075039Z"
    },
    "papermill": {
     "duration": 0.075961,
     "end_time": "2020-09-29T06:03:15.075737",
     "exception": false,
     "start_time": "2020-09-29T06:03:14.999776",
     "status": "completed"
    },
    "tags": []
   },
   "outputs": [
    {
     "data": {
      "text/html": [
       "<div>\n",
       "<style scoped>\n",
       "    .dataframe tbody tr th:only-of-type {\n",
       "        vertical-align: middle;\n",
       "    }\n",
       "\n",
       "    .dataframe tbody tr th {\n",
       "        vertical-align: top;\n",
       "    }\n",
       "\n",
       "    .dataframe thead th {\n",
       "        text-align: right;\n",
       "    }\n",
       "</style>\n",
       "<table border=\"1\" class=\"dataframe\">\n",
       "  <thead>\n",
       "    <tr style=\"text-align: right;\">\n",
       "      <th></th>\n",
       "      <th>PassengerId</th>\n",
       "      <th>Survived</th>\n",
       "      <th>Pclass</th>\n",
       "      <th>Name</th>\n",
       "      <th>Sex</th>\n",
       "      <th>Age</th>\n",
       "      <th>SibSp</th>\n",
       "      <th>Parch</th>\n",
       "      <th>Ticket</th>\n",
       "      <th>Fare</th>\n",
       "      <th>Cabin</th>\n",
       "      <th>Embarked</th>\n",
       "      <th>CabinBool</th>\n",
       "    </tr>\n",
       "  </thead>\n",
       "  <tbody>\n",
       "    <tr>\n",
       "      <th>0</th>\n",
       "      <td>1</td>\n",
       "      <td>0</td>\n",
       "      <td>3</td>\n",
       "      <td>Braund, Mr. Owen Harris</td>\n",
       "      <td>0</td>\n",
       "      <td>22.0</td>\n",
       "      <td>1</td>\n",
       "      <td>0</td>\n",
       "      <td>A/5 21171</td>\n",
       "      <td>7.2500</td>\n",
       "      <td>NaN</td>\n",
       "      <td>1</td>\n",
       "      <td>False</td>\n",
       "    </tr>\n",
       "    <tr>\n",
       "      <th>1</th>\n",
       "      <td>2</td>\n",
       "      <td>1</td>\n",
       "      <td>1</td>\n",
       "      <td>Cumings, Mrs. John Bradley (Florence Briggs Th...</td>\n",
       "      <td>1</td>\n",
       "      <td>38.0</td>\n",
       "      <td>1</td>\n",
       "      <td>0</td>\n",
       "      <td>PC 17599</td>\n",
       "      <td>71.2833</td>\n",
       "      <td>C85</td>\n",
       "      <td>2</td>\n",
       "      <td>True</td>\n",
       "    </tr>\n",
       "    <tr>\n",
       "      <th>2</th>\n",
       "      <td>3</td>\n",
       "      <td>1</td>\n",
       "      <td>3</td>\n",
       "      <td>Heikkinen, Miss. Laina</td>\n",
       "      <td>1</td>\n",
       "      <td>26.0</td>\n",
       "      <td>0</td>\n",
       "      <td>0</td>\n",
       "      <td>STON/O2. 3101282</td>\n",
       "      <td>7.9250</td>\n",
       "      <td>NaN</td>\n",
       "      <td>1</td>\n",
       "      <td>False</td>\n",
       "    </tr>\n",
       "    <tr>\n",
       "      <th>3</th>\n",
       "      <td>4</td>\n",
       "      <td>1</td>\n",
       "      <td>1</td>\n",
       "      <td>Futrelle, Mrs. Jacques Heath (Lily May Peel)</td>\n",
       "      <td>1</td>\n",
       "      <td>35.0</td>\n",
       "      <td>1</td>\n",
       "      <td>0</td>\n",
       "      <td>113803</td>\n",
       "      <td>53.1000</td>\n",
       "      <td>C123</td>\n",
       "      <td>1</td>\n",
       "      <td>True</td>\n",
       "    </tr>\n",
       "    <tr>\n",
       "      <th>4</th>\n",
       "      <td>5</td>\n",
       "      <td>0</td>\n",
       "      <td>3</td>\n",
       "      <td>Allen, Mr. William Henry</td>\n",
       "      <td>0</td>\n",
       "      <td>35.0</td>\n",
       "      <td>0</td>\n",
       "      <td>0</td>\n",
       "      <td>373450</td>\n",
       "      <td>8.0500</td>\n",
       "      <td>NaN</td>\n",
       "      <td>1</td>\n",
       "      <td>False</td>\n",
       "    </tr>\n",
       "  </tbody>\n",
       "</table>\n",
       "</div>"
      ],
      "text/plain": [
       "   PassengerId  Survived  Pclass  \\\n",
       "0            1         0       3   \n",
       "1            2         1       1   \n",
       "2            3         1       3   \n",
       "3            4         1       1   \n",
       "4            5         0       3   \n",
       "\n",
       "                                                Name  Sex   Age  SibSp  Parch  \\\n",
       "0                            Braund, Mr. Owen Harris    0  22.0      1      0   \n",
       "1  Cumings, Mrs. John Bradley (Florence Briggs Th...    1  38.0      1      0   \n",
       "2                             Heikkinen, Miss. Laina    1  26.0      0      0   \n",
       "3       Futrelle, Mrs. Jacques Heath (Lily May Peel)    1  35.0      1      0   \n",
       "4                           Allen, Mr. William Henry    0  35.0      0      0   \n",
       "\n",
       "             Ticket     Fare Cabin  Embarked  CabinBool  \n",
       "0         A/5 21171   7.2500   NaN         1      False  \n",
       "1          PC 17599  71.2833   C85         2       True  \n",
       "2  STON/O2. 3101282   7.9250   NaN         1      False  \n",
       "3            113803  53.1000  C123         1       True  \n",
       "4            373450   8.0500   NaN         1      False  "
      ]
     },
     "execution_count": 15,
     "metadata": {},
     "output_type": "execute_result"
    }
   ],
   "source": [
    "\n",
    "train['Sex'] = train['Sex'].map({\"male\": 0, \"female\": 1})\n",
    "test['Sex'] = test['Sex'].map({\"male\": 0, \"female\": 1})\n",
    "\n",
    "train.head()"
   ]
  },
  {
   "cell_type": "markdown",
   "metadata": {
    "papermill": {
     "duration": 0.055249,
     "end_time": "2020-09-29T06:03:15.186383",
     "exception": false,
     "start_time": "2020-09-29T06:03:15.131134",
     "status": "completed"
    },
    "tags": []
   },
   "source": [
    "# Cabin Feature"
   ]
  },
  {
   "cell_type": "code",
   "execution_count": 16,
   "metadata": {
    "execution": {
     "iopub.execute_input": "2020-09-29T06:03:15.305181Z",
     "iopub.status.busy": "2020-09-29T06:03:15.304489Z",
     "iopub.status.idle": "2020-09-29T06:03:15.308574Z",
     "shell.execute_reply": "2020-09-29T06:03:15.309050Z"
    },
    "papermill": {
     "duration": 0.067853,
     "end_time": "2020-09-29T06:03:15.309194",
     "exception": false,
     "start_time": "2020-09-29T06:03:15.241341",
     "status": "completed"
    },
    "tags": []
   },
   "outputs": [],
   "source": [
    "train = train.drop(['Cabin'], axis = 1)\n",
    "test = test.drop(['Cabin'], axis = 1)"
   ]
  },
  {
   "cell_type": "markdown",
   "metadata": {
    "papermill": {
     "duration": 0.048827,
     "end_time": "2020-09-29T06:03:15.407406",
     "exception": false,
     "start_time": "2020-09-29T06:03:15.358579",
     "status": "completed"
    },
    "tags": []
   },
   "source": [
    "# Ticket Feature"
   ]
  },
  {
   "cell_type": "code",
   "execution_count": 17,
   "metadata": {
    "execution": {
     "iopub.execute_input": "2020-09-29T06:03:15.522044Z",
     "iopub.status.busy": "2020-09-29T06:03:15.521105Z",
     "iopub.status.idle": "2020-09-29T06:03:15.524773Z",
     "shell.execute_reply": "2020-09-29T06:03:15.524096Z"
    },
    "papermill": {
     "duration": 0.065957,
     "end_time": "2020-09-29T06:03:15.524891",
     "exception": false,
     "start_time": "2020-09-29T06:03:15.458934",
     "status": "completed"
    },
    "tags": []
   },
   "outputs": [],
   "source": [
    "train = train.drop(['Ticket'], axis = 1)\n",
    "test = test.drop(['Ticket'], axis = 1)"
   ]
  },
  {
   "cell_type": "markdown",
   "metadata": {
    "papermill": {
     "duration": 0.049235,
     "end_time": "2020-09-29T06:03:15.623823",
     "exception": false,
     "start_time": "2020-09-29T06:03:15.574588",
     "status": "completed"
    },
    "tags": []
   },
   "source": [
    "# Name Feature"
   ]
  },
  {
   "cell_type": "code",
   "execution_count": 18,
   "metadata": {
    "execution": {
     "iopub.execute_input": "2020-09-29T06:03:15.737667Z",
     "iopub.status.busy": "2020-09-29T06:03:15.736407Z",
     "iopub.status.idle": "2020-09-29T06:03:15.744569Z",
     "shell.execute_reply": "2020-09-29T06:03:15.745194Z"
    },
    "papermill": {
     "duration": 0.071955,
     "end_time": "2020-09-29T06:03:15.745361",
     "exception": false,
     "start_time": "2020-09-29T06:03:15.673406",
     "status": "completed"
    },
    "tags": []
   },
   "outputs": [],
   "source": [
    "train = train.drop(['Name'], axis = 1)\n",
    "test = test.drop(['Name'], axis = 1)"
   ]
  },
  {
   "cell_type": "markdown",
   "metadata": {
    "papermill": {
     "duration": 0.056542,
     "end_time": "2020-09-29T06:03:15.858785",
     "exception": false,
     "start_time": "2020-09-29T06:03:15.802243",
     "status": "completed"
    },
    "tags": []
   },
   "source": [
    "# Filling unknown value of age and Fare by mean of present values"
   ]
  },
  {
   "cell_type": "code",
   "execution_count": 19,
   "metadata": {
    "execution": {
     "iopub.execute_input": "2020-09-29T06:03:15.988686Z",
     "iopub.status.busy": "2020-09-29T06:03:15.987463Z",
     "iopub.status.idle": "2020-09-29T06:03:15.990337Z",
     "shell.execute_reply": "2020-09-29T06:03:15.990942Z"
    },
    "papermill": {
     "duration": 0.07138,
     "end_time": "2020-09-29T06:03:15.991104",
     "exception": false,
     "start_time": "2020-09-29T06:03:15.919724",
     "status": "completed"
    },
    "tags": []
   },
   "outputs": [],
   "source": [
    "train.Age.fillna(value=train.Age.mean(), inplace=True)\n",
    "train.Fare.fillna(value=train.Fare.mean(), inplace=True)\n",
    "\n",
    "test.Age.fillna(value=test.Age.mean(), inplace=True)\n",
    "test.Fare.fillna(value=test.Fare.mean(), inplace=True)"
   ]
  },
  {
   "cell_type": "markdown",
   "metadata": {
    "papermill": {
     "duration": 0.050901,
     "end_time": "2020-09-29T06:03:16.100854",
     "exception": false,
     "start_time": "2020-09-29T06:03:16.049953",
     "status": "completed"
    },
    "tags": []
   },
   "source": [
    "# Changing Cabin value into boolean"
   ]
  },
  {
   "cell_type": "code",
   "execution_count": 20,
   "metadata": {
    "execution": {
     "iopub.execute_input": "2020-09-29T06:03:16.212778Z",
     "iopub.status.busy": "2020-09-29T06:03:16.212096Z",
     "iopub.status.idle": "2020-09-29T06:03:16.215726Z",
     "shell.execute_reply": "2020-09-29T06:03:16.215194Z"
    },
    "papermill": {
     "duration": 0.062136,
     "end_time": "2020-09-29T06:03:16.215846",
     "exception": false,
     "start_time": "2020-09-29T06:03:16.153710",
     "status": "completed"
    },
    "tags": []
   },
   "outputs": [],
   "source": [
    "train['CabinBool'] = train['CabinBool'].map({True: 0, False: 1})\n",
    "test['CabinBool'] = test['CabinBool'].map({True: 0, False: 1})"
   ]
  },
  {
   "cell_type": "code",
   "execution_count": 21,
   "metadata": {
    "execution": {
     "iopub.execute_input": "2020-09-29T06:03:16.376834Z",
     "iopub.status.busy": "2020-09-29T06:03:16.376121Z",
     "iopub.status.idle": "2020-09-29T06:03:16.379395Z",
     "shell.execute_reply": "2020-09-29T06:03:16.380059Z"
    },
    "papermill": {
     "duration": 0.113842,
     "end_time": "2020-09-29T06:03:16.380211",
     "exception": false,
     "start_time": "2020-09-29T06:03:16.266369",
     "status": "completed"
    },
    "tags": []
   },
   "outputs": [
    {
     "data": {
      "text/html": [
       "<div>\n",
       "<style scoped>\n",
       "    .dataframe tbody tr th:only-of-type {\n",
       "        vertical-align: middle;\n",
       "    }\n",
       "\n",
       "    .dataframe tbody tr th {\n",
       "        vertical-align: top;\n",
       "    }\n",
       "\n",
       "    .dataframe thead th {\n",
       "        text-align: right;\n",
       "    }\n",
       "</style>\n",
       "<table border=\"1\" class=\"dataframe\">\n",
       "  <thead>\n",
       "    <tr style=\"text-align: right;\">\n",
       "      <th></th>\n",
       "      <th>PassengerId</th>\n",
       "      <th>Survived</th>\n",
       "      <th>Pclass</th>\n",
       "      <th>Sex</th>\n",
       "      <th>Age</th>\n",
       "      <th>SibSp</th>\n",
       "      <th>Parch</th>\n",
       "      <th>Fare</th>\n",
       "      <th>Embarked</th>\n",
       "      <th>CabinBool</th>\n",
       "    </tr>\n",
       "  </thead>\n",
       "  <tbody>\n",
       "    <tr>\n",
       "      <th>0</th>\n",
       "      <td>1</td>\n",
       "      <td>0</td>\n",
       "      <td>3</td>\n",
       "      <td>0</td>\n",
       "      <td>22.0</td>\n",
       "      <td>1</td>\n",
       "      <td>0</td>\n",
       "      <td>7.2500</td>\n",
       "      <td>1</td>\n",
       "      <td>1</td>\n",
       "    </tr>\n",
       "    <tr>\n",
       "      <th>1</th>\n",
       "      <td>2</td>\n",
       "      <td>1</td>\n",
       "      <td>1</td>\n",
       "      <td>1</td>\n",
       "      <td>38.0</td>\n",
       "      <td>1</td>\n",
       "      <td>0</td>\n",
       "      <td>71.2833</td>\n",
       "      <td>2</td>\n",
       "      <td>0</td>\n",
       "    </tr>\n",
       "    <tr>\n",
       "      <th>2</th>\n",
       "      <td>3</td>\n",
       "      <td>1</td>\n",
       "      <td>3</td>\n",
       "      <td>1</td>\n",
       "      <td>26.0</td>\n",
       "      <td>0</td>\n",
       "      <td>0</td>\n",
       "      <td>7.9250</td>\n",
       "      <td>1</td>\n",
       "      <td>1</td>\n",
       "    </tr>\n",
       "    <tr>\n",
       "      <th>3</th>\n",
       "      <td>4</td>\n",
       "      <td>1</td>\n",
       "      <td>1</td>\n",
       "      <td>1</td>\n",
       "      <td>35.0</td>\n",
       "      <td>1</td>\n",
       "      <td>0</td>\n",
       "      <td>53.1000</td>\n",
       "      <td>1</td>\n",
       "      <td>0</td>\n",
       "    </tr>\n",
       "    <tr>\n",
       "      <th>4</th>\n",
       "      <td>5</td>\n",
       "      <td>0</td>\n",
       "      <td>3</td>\n",
       "      <td>0</td>\n",
       "      <td>35.0</td>\n",
       "      <td>0</td>\n",
       "      <td>0</td>\n",
       "      <td>8.0500</td>\n",
       "      <td>1</td>\n",
       "      <td>1</td>\n",
       "    </tr>\n",
       "  </tbody>\n",
       "</table>\n",
       "</div>"
      ],
      "text/plain": [
       "   PassengerId  Survived  Pclass  Sex   Age  SibSp  Parch     Fare  Embarked  \\\n",
       "0            1         0       3    0  22.0      1      0   7.2500         1   \n",
       "1            2         1       1    1  38.0      1      0  71.2833         2   \n",
       "2            3         1       3    1  26.0      0      0   7.9250         1   \n",
       "3            4         1       1    1  35.0      1      0  53.1000         1   \n",
       "4            5         0       3    0  35.0      0      0   8.0500         1   \n",
       "\n",
       "   CabinBool  \n",
       "0          1  \n",
       "1          0  \n",
       "2          1  \n",
       "3          0  \n",
       "4          1  "
      ]
     },
     "execution_count": 21,
     "metadata": {},
     "output_type": "execute_result"
    }
   ],
   "source": [
    "train.head()"
   ]
  },
  {
   "cell_type": "markdown",
   "metadata": {
    "papermill": {
     "duration": 0.050656,
     "end_time": "2020-09-29T06:03:16.488269",
     "exception": false,
     "start_time": "2020-09-29T06:03:16.437613",
     "status": "completed"
    },
    "tags": []
   },
   "source": [
    "# converting different age group into different age stages"
   ]
  },
  {
   "cell_type": "code",
   "execution_count": 22,
   "metadata": {
    "execution": {
     "iopub.execute_input": "2020-09-29T06:03:16.595073Z",
     "iopub.status.busy": "2020-09-29T06:03:16.594358Z",
     "iopub.status.idle": "2020-09-29T06:03:16.686346Z",
     "shell.execute_reply": "2020-09-29T06:03:16.685785Z"
    },
    "papermill": {
     "duration": 0.146089,
     "end_time": "2020-09-29T06:03:16.686472",
     "exception": false,
     "start_time": "2020-09-29T06:03:16.540383",
     "status": "completed"
    },
    "tags": []
   },
   "outputs": [],
   "source": [
    "\n",
    "bins = [ 0, 5, 12, 18, 24, 35, 60, np.inf]\n",
    "labels = [ 'Baby', 'Child', 'Teenager', 'Student', 'Young', 'Adult', 'Senior']\n",
    "train['AgeGroup'] = pd.cut(train[\"Age\"], bins, labels = labels)\n",
    "test['AgeGroup'] = pd.cut(test[\"Age\"], bins, labels = labels)\n"
   ]
  },
  {
   "cell_type": "code",
   "execution_count": 23,
   "metadata": {
    "execution": {
     "iopub.execute_input": "2020-09-29T06:03:16.798935Z",
     "iopub.status.busy": "2020-09-29T06:03:16.798203Z",
     "iopub.status.idle": "2020-09-29T06:03:16.801352Z",
     "shell.execute_reply": "2020-09-29T06:03:16.800705Z"
    },
    "papermill": {
     "duration": 0.063798,
     "end_time": "2020-09-29T06:03:16.801489",
     "exception": false,
     "start_time": "2020-09-29T06:03:16.737691",
     "status": "completed"
    },
    "tags": []
   },
   "outputs": [],
   "source": [
    "age_mapping = {'Baby': 1, 'Child': 2, 'Teenager': 3, 'Student': 4, 'Young': 5, 'Adult': 6, 'Senior': 7}\n",
    "train['AgeGroup'] = train['AgeGroup'].map(age_mapping)\n",
    "test['AgeGroup'] = test['AgeGroup'].map(age_mapping)"
   ]
  },
  {
   "cell_type": "markdown",
   "metadata": {
    "papermill": {
     "duration": 0.05128,
     "end_time": "2020-09-29T06:03:16.904766",
     "exception": false,
     "start_time": "2020-09-29T06:03:16.853486",
     "status": "completed"
    },
    "tags": []
   },
   "source": [
    "# Droping Age column because we have already converted into stages"
   ]
  },
  {
   "cell_type": "code",
   "execution_count": 24,
   "metadata": {
    "execution": {
     "iopub.execute_input": "2020-09-29T06:03:17.013160Z",
     "iopub.status.busy": "2020-09-29T06:03:17.012459Z",
     "iopub.status.idle": "2020-09-29T06:03:17.030258Z",
     "shell.execute_reply": "2020-09-29T06:03:17.030833Z"
    },
    "papermill": {
     "duration": 0.073595,
     "end_time": "2020-09-29T06:03:17.030999",
     "exception": false,
     "start_time": "2020-09-29T06:03:16.957404",
     "status": "completed"
    },
    "tags": []
   },
   "outputs": [
    {
     "data": {
      "text/html": [
       "<div>\n",
       "<style scoped>\n",
       "    .dataframe tbody tr th:only-of-type {\n",
       "        vertical-align: middle;\n",
       "    }\n",
       "\n",
       "    .dataframe tbody tr th {\n",
       "        vertical-align: top;\n",
       "    }\n",
       "\n",
       "    .dataframe thead th {\n",
       "        text-align: right;\n",
       "    }\n",
       "</style>\n",
       "<table border=\"1\" class=\"dataframe\">\n",
       "  <thead>\n",
       "    <tr style=\"text-align: right;\">\n",
       "      <th></th>\n",
       "      <th>PassengerId</th>\n",
       "      <th>Survived</th>\n",
       "      <th>Pclass</th>\n",
       "      <th>Sex</th>\n",
       "      <th>SibSp</th>\n",
       "      <th>Parch</th>\n",
       "      <th>Fare</th>\n",
       "      <th>Embarked</th>\n",
       "      <th>CabinBool</th>\n",
       "      <th>AgeGroup</th>\n",
       "    </tr>\n",
       "  </thead>\n",
       "  <tbody>\n",
       "    <tr>\n",
       "      <th>0</th>\n",
       "      <td>1</td>\n",
       "      <td>0</td>\n",
       "      <td>3</td>\n",
       "      <td>0</td>\n",
       "      <td>1</td>\n",
       "      <td>0</td>\n",
       "      <td>7.2500</td>\n",
       "      <td>1</td>\n",
       "      <td>1</td>\n",
       "      <td>4</td>\n",
       "    </tr>\n",
       "    <tr>\n",
       "      <th>1</th>\n",
       "      <td>2</td>\n",
       "      <td>1</td>\n",
       "      <td>1</td>\n",
       "      <td>1</td>\n",
       "      <td>1</td>\n",
       "      <td>0</td>\n",
       "      <td>71.2833</td>\n",
       "      <td>2</td>\n",
       "      <td>0</td>\n",
       "      <td>6</td>\n",
       "    </tr>\n",
       "    <tr>\n",
       "      <th>2</th>\n",
       "      <td>3</td>\n",
       "      <td>1</td>\n",
       "      <td>3</td>\n",
       "      <td>1</td>\n",
       "      <td>0</td>\n",
       "      <td>0</td>\n",
       "      <td>7.9250</td>\n",
       "      <td>1</td>\n",
       "      <td>1</td>\n",
       "      <td>5</td>\n",
       "    </tr>\n",
       "    <tr>\n",
       "      <th>3</th>\n",
       "      <td>4</td>\n",
       "      <td>1</td>\n",
       "      <td>1</td>\n",
       "      <td>1</td>\n",
       "      <td>1</td>\n",
       "      <td>0</td>\n",
       "      <td>53.1000</td>\n",
       "      <td>1</td>\n",
       "      <td>0</td>\n",
       "      <td>5</td>\n",
       "    </tr>\n",
       "    <tr>\n",
       "      <th>4</th>\n",
       "      <td>5</td>\n",
       "      <td>0</td>\n",
       "      <td>3</td>\n",
       "      <td>0</td>\n",
       "      <td>0</td>\n",
       "      <td>0</td>\n",
       "      <td>8.0500</td>\n",
       "      <td>1</td>\n",
       "      <td>1</td>\n",
       "      <td>5</td>\n",
       "    </tr>\n",
       "  </tbody>\n",
       "</table>\n",
       "</div>"
      ],
      "text/plain": [
       "   PassengerId  Survived  Pclass  Sex  SibSp  Parch     Fare  Embarked  \\\n",
       "0            1         0       3    0      1      0   7.2500         1   \n",
       "1            2         1       1    1      1      0  71.2833         2   \n",
       "2            3         1       3    1      0      0   7.9250         1   \n",
       "3            4         1       1    1      1      0  53.1000         1   \n",
       "4            5         0       3    0      0      0   8.0500         1   \n",
       "\n",
       "   CabinBool AgeGroup  \n",
       "0          1        4  \n",
       "1          0        6  \n",
       "2          1        5  \n",
       "3          0        5  \n",
       "4          1        5  "
      ]
     },
     "execution_count": 24,
     "metadata": {},
     "output_type": "execute_result"
    }
   ],
   "source": [
    "train=train.drop(['Age'],axis =1)\n",
    "test =test.drop(['Age'],axis=1)\n",
    "train.head()"
   ]
  },
  {
   "cell_type": "markdown",
   "metadata": {
    "papermill": {
     "duration": 0.052073,
     "end_time": "2020-09-29T06:03:17.136322",
     "exception": false,
     "start_time": "2020-09-29T06:03:17.084249",
     "status": "completed"
    },
    "tags": []
   },
   "source": [
    "# Comparing survived in different age group"
   ]
  },
  {
   "cell_type": "code",
   "execution_count": 25,
   "metadata": {
    "execution": {
     "iopub.execute_input": "2020-09-29T06:03:17.243618Z",
     "iopub.status.busy": "2020-09-29T06:03:17.242984Z",
     "iopub.status.idle": "2020-09-29T06:03:17.645659Z",
     "shell.execute_reply": "2020-09-29T06:03:17.646178Z"
    },
    "papermill": {
     "duration": 0.458041,
     "end_time": "2020-09-29T06:03:17.646322",
     "exception": false,
     "start_time": "2020-09-29T06:03:17.188281",
     "status": "completed"
    },
    "tags": []
   },
   "outputs": [
    {
     "data": {
      "image/png": "[encoded data removed]",
      "text/plain": [
       "<Figure size 432x288 with 1 Axes>"
      ]
     },
     "metadata": {
      "needs_background": "light"
     },
     "output_type": "display_data"
    }
   ],
   "source": [
    "sns.barplot(x=\"AgeGroup\", y=\"Survived\", data=train)\n",
    "plt.show()\n"
   ]
  },
  {
   "cell_type": "markdown",
   "metadata": {
    "papermill": {
     "duration": 0.057636,
     "end_time": "2020-09-29T06:03:17.764986",
     "exception": false,
     "start_time": "2020-09-29T06:03:17.707350",
     "status": "completed"
    },
    "tags": []
   },
   "source": []
  },
  {
   "cell_type": "raw",
   "metadata": {
    "papermill": {
     "duration": 0.053569,
     "end_time": "2020-09-29T06:03:17.871779",
     "exception": false,
     "start_time": "2020-09-29T06:03:17.818210",
     "status": "completed"
    },
    "tags": []
   },
   "source": [
    "train['FareBand'] = pd.qcut(train['Fare'], 4, labels = [1, 2, 3, 4])\n",
    "test['FareBand'] = pd.qcut(test['Fare'], 4, labels = [1, 2, 3, 4])\n",
    "\n",
    "#drop Fare values\n",
    "train = train.drop(['Fare'], axis = 1)\n",
    "test = test.drop(['Fare'], axis = 1)"
   ]
  },
  {
   "cell_type": "code",
   "execution_count": 26,
   "metadata": {
    "execution": {
     "iopub.execute_input": "2020-09-29T06:03:17.988149Z",
     "iopub.status.busy": "2020-09-29T06:03:17.985721Z",
     "iopub.status.idle": "2020-09-29T06:03:17.991606Z",
     "shell.execute_reply": "2020-09-29T06:03:17.992159Z"
    },
    "papermill": {
     "duration": 0.065533,
     "end_time": "2020-09-29T06:03:17.992308",
     "exception": false,
     "start_time": "2020-09-29T06:03:17.926775",
     "status": "completed"
    },
    "tags": []
   },
   "outputs": [
    {
     "data": {
      "text/plain": [
       "PassengerId    0\n",
       "Survived       0\n",
       "Pclass         0\n",
       "Sex            0\n",
       "SibSp          0\n",
       "Parch          0\n",
       "Fare           0\n",
       "Embarked       0\n",
       "CabinBool      0\n",
       "AgeGroup       0\n",
       "dtype: int64"
      ]
     },
     "execution_count": 26,
     "metadata": {},
     "output_type": "execute_result"
    }
   ],
   "source": [
    "train.isnull().sum()"
   ]
  },
  {
   "cell_type": "code",
   "execution_count": 27,
   "metadata": {
    "execution": {
     "iopub.execute_input": "2020-09-29T06:03:18.103186Z",
     "iopub.status.busy": "2020-09-29T06:03:18.102416Z",
     "iopub.status.idle": "2020-09-29T06:03:18.116952Z",
     "shell.execute_reply": "2020-09-29T06:03:18.117474Z"
    },
    "papermill": {
     "duration": 0.071553,
     "end_time": "2020-09-29T06:03:18.117618",
     "exception": false,
     "start_time": "2020-09-29T06:03:18.046065",
     "status": "completed"
    },
    "tags": []
   },
   "outputs": [
    {
     "data": {
      "text/html": [
       "<div>\n",
       "<style scoped>\n",
       "    .dataframe tbody tr th:only-of-type {\n",
       "        vertical-align: middle;\n",
       "    }\n",
       "\n",
       "    .dataframe tbody tr th {\n",
       "        vertical-align: top;\n",
       "    }\n",
       "\n",
       "    .dataframe thead th {\n",
       "        text-align: right;\n",
       "    }\n",
       "</style>\n",
       "<table border=\"1\" class=\"dataframe\">\n",
       "  <thead>\n",
       "    <tr style=\"text-align: right;\">\n",
       "      <th></th>\n",
       "      <th>PassengerId</th>\n",
       "      <th>Survived</th>\n",
       "      <th>Pclass</th>\n",
       "      <th>Sex</th>\n",
       "      <th>SibSp</th>\n",
       "      <th>Parch</th>\n",
       "      <th>Fare</th>\n",
       "      <th>Embarked</th>\n",
       "      <th>CabinBool</th>\n",
       "      <th>AgeGroup</th>\n",
       "    </tr>\n",
       "  </thead>\n",
       "  <tbody>\n",
       "    <tr>\n",
       "      <th>0</th>\n",
       "      <td>1</td>\n",
       "      <td>0</td>\n",
       "      <td>3</td>\n",
       "      <td>0</td>\n",
       "      <td>1</td>\n",
       "      <td>0</td>\n",
       "      <td>7.2500</td>\n",
       "      <td>1</td>\n",
       "      <td>1</td>\n",
       "      <td>4</td>\n",
       "    </tr>\n",
       "    <tr>\n",
       "      <th>1</th>\n",
       "      <td>2</td>\n",
       "      <td>1</td>\n",
       "      <td>1</td>\n",
       "      <td>1</td>\n",
       "      <td>1</td>\n",
       "      <td>0</td>\n",
       "      <td>71.2833</td>\n",
       "      <td>2</td>\n",
       "      <td>0</td>\n",
       "      <td>6</td>\n",
       "    </tr>\n",
       "    <tr>\n",
       "      <th>2</th>\n",
       "      <td>3</td>\n",
       "      <td>1</td>\n",
       "      <td>3</td>\n",
       "      <td>1</td>\n",
       "      <td>0</td>\n",
       "      <td>0</td>\n",
       "      <td>7.9250</td>\n",
       "      <td>1</td>\n",
       "      <td>1</td>\n",
       "      <td>5</td>\n",
       "    </tr>\n",
       "    <tr>\n",
       "      <th>3</th>\n",
       "      <td>4</td>\n",
       "      <td>1</td>\n",
       "      <td>1</td>\n",
       "      <td>1</td>\n",
       "      <td>1</td>\n",
       "      <td>0</td>\n",
       "      <td>53.1000</td>\n",
       "      <td>1</td>\n",
       "      <td>0</td>\n",
       "      <td>5</td>\n",
       "    </tr>\n",
       "    <tr>\n",
       "      <th>4</th>\n",
       "      <td>5</td>\n",
       "      <td>0</td>\n",
       "      <td>3</td>\n",
       "      <td>0</td>\n",
       "      <td>0</td>\n",
       "      <td>0</td>\n",
       "      <td>8.0500</td>\n",
       "      <td>1</td>\n",
       "      <td>1</td>\n",
       "      <td>5</td>\n",
       "    </tr>\n",
       "  </tbody>\n",
       "</table>\n",
       "</div>"
      ],
      "text/plain": [
       "   PassengerId  Survived  Pclass  Sex  SibSp  Parch     Fare  Embarked  \\\n",
       "0            1         0       3    0      1      0   7.2500         1   \n",
       "1            2         1       1    1      1      0  71.2833         2   \n",
       "2            3         1       3    1      0      0   7.9250         1   \n",
       "3            4         1       1    1      1      0  53.1000         1   \n",
       "4            5         0       3    0      0      0   8.0500         1   \n",
       "\n",
       "   CabinBool AgeGroup  \n",
       "0          1        4  \n",
       "1          0        6  \n",
       "2          1        5  \n",
       "3          0        5  \n",
       "4          1        5  "
      ]
     },
     "execution_count": 27,
     "metadata": {},
     "output_type": "execute_result"
    }
   ],
   "source": [
    "train.head()"
   ]
  },
  {
   "cell_type": "markdown",
   "metadata": {
    "papermill": {
     "duration": 0.053379,
     "end_time": "2020-09-29T06:03:18.224927",
     "exception": false,
     "start_time": "2020-09-29T06:03:18.171548",
     "status": "completed"
    },
    "tags": []
   },
   "source": [
    "# Splitting Data"
   ]
  },
  {
   "cell_type": "code",
   "execution_count": 28,
   "metadata": {
    "execution": {
     "iopub.execute_input": "2020-09-29T06:03:18.339218Z",
     "iopub.status.busy": "2020-09-29T06:03:18.338472Z",
     "iopub.status.idle": "2020-09-29T06:03:18.493442Z",
     "shell.execute_reply": "2020-09-29T06:03:18.492854Z"
    },
    "papermill": {
     "duration": 0.214791,
     "end_time": "2020-09-29T06:03:18.493564",
     "exception": false,
     "start_time": "2020-09-29T06:03:18.278773",
     "status": "completed"
    },
    "tags": []
   },
   "outputs": [],
   "source": [
    "from sklearn.model_selection import train_test_split\n",
    "\n",
    "X = train.drop(['Survived', 'PassengerId'], axis=1)\n",
    "y = train[\"Survived\"]\n",
    "x_train, x_val, y_train, y_val = train_test_split(X, y)\n"
   ]
  },
  {
   "cell_type": "markdown",
   "metadata": {
    "papermill": {
     "duration": 0.053566,
     "end_time": "2020-09-29T06:03:18.601434",
     "exception": false,
     "start_time": "2020-09-29T06:03:18.547868",
     "status": "completed"
    },
    "tags": []
   },
   "source": [
    "# Models "
   ]
  },
  {
   "cell_type": "markdown",
   "metadata": {
    "papermill": {
     "duration": 0.056422,
     "end_time": "2020-09-29T06:03:18.711761",
     "exception": false,
     "start_time": "2020-09-29T06:03:18.655339",
     "status": "completed"
    },
    "tags": []
   },
   "source": [
    "# Logistic Regression"
   ]
  },
  {
   "cell_type": "code",
   "execution_count": 29,
   "metadata": {
    "execution": {
     "iopub.execute_input": "2020-09-29T06:03:18.826782Z",
     "iopub.status.busy": "2020-09-29T06:03:18.826044Z",
     "iopub.status.idle": "2020-09-29T06:03:18.992530Z",
     "shell.execute_reply": "2020-09-29T06:03:18.993619Z"
    },
    "papermill": {
     "duration": 0.227812,
     "end_time": "2020-09-29T06:03:18.993912",
     "exception": false,
     "start_time": "2020-09-29T06:03:18.766100",
     "status": "completed"
    },
    "tags": []
   },
   "outputs": [
    {
     "name": "stdout",
     "output_type": "stream",
     "text": [
      "75.33632286995515\n"
     ]
    }
   ],
   "source": [
    "from sklearn.metrics import accuracy_score\n",
    "from sklearn.linear_model import LogisticRegression\n",
    "\n",
    "log_model = LogisticRegression()\n",
    "log_model.fit(x_train, y_train)\n",
    "y_pred = log_model.predict(x_val)\n",
    "acc_log=accuracy_score(y_pred, y_val) * 100\n",
    "print(acc_log)"
   ]
  },
  {
   "cell_type": "markdown",
   "metadata": {
    "papermill": {
     "duration": 0.05543,
     "end_time": "2020-09-29T06:03:19.105780",
     "exception": false,
     "start_time": "2020-09-29T06:03:19.050350",
     "status": "completed"
    },
    "tags": []
   },
   "source": [
    "# Support vector machine"
   ]
  },
  {
   "cell_type": "code",
   "execution_count": 30,
   "metadata": {
    "execution": {
     "iopub.execute_input": "2020-09-29T06:03:19.219738Z",
     "iopub.status.busy": "2020-09-29T06:03:19.218712Z",
     "iopub.status.idle": "2020-09-29T06:03:19.252016Z",
     "shell.execute_reply": "2020-09-29T06:03:19.251423Z"
    },
    "papermill": {
     "duration": 0.091945,
     "end_time": "2020-09-29T06:03:19.252148",
     "exception": false,
     "start_time": "2020-09-29T06:03:19.160203",
     "status": "completed"
    },
    "tags": []
   },
   "outputs": [
    {
     "name": "stdout",
     "output_type": "stream",
     "text": [
      "64.57399103139014\n"
     ]
    }
   ],
   "source": [
    "from sklearn.svm import SVC\n",
    "svm_model =SVC()\n",
    "svm_model.fit(x_train,y_train)\n",
    "y_pred =svm_model.predict(x_val)\n",
    "acc_svc =accuracy_score(y_pred,y_val)*100\n",
    "print(acc_svc)\n",
    "\n"
   ]
  },
  {
   "cell_type": "markdown",
   "metadata": {
    "papermill": {
     "duration": 0.055209,
     "end_time": "2020-09-29T06:03:19.362904",
     "exception": false,
     "start_time": "2020-09-29T06:03:19.307695",
     "status": "completed"
    },
    "tags": []
   },
   "source": [
    "# Decision Tree Classifier"
   ]
  },
  {
   "cell_type": "code",
   "execution_count": 31,
   "metadata": {
    "execution": {
     "iopub.execute_input": "2020-09-29T06:03:19.477504Z",
     "iopub.status.busy": "2020-09-29T06:03:19.476882Z",
     "iopub.status.idle": "2020-09-29T06:03:19.611488Z",
     "shell.execute_reply": "2020-09-29T06:03:19.610716Z"
    },
    "papermill": {
     "duration": 0.193332,
     "end_time": "2020-09-29T06:03:19.611673",
     "exception": false,
     "start_time": "2020-09-29T06:03:19.418341",
     "status": "completed"
    },
    "tags": []
   },
   "outputs": [
    {
     "name": "stdout",
     "output_type": "stream",
     "text": [
      "76.23318385650224\n"
     ]
    }
   ],
   "source": [
    "from sklearn.tree import DecisionTreeClassifier\n",
    "\n",
    "decisiontree_model =DecisionTreeClassifier()\n",
    "decisiontree_model.fit(x_train,y_train)\n",
    "y_pred =decisiontree_model.predict(x_val)\n",
    "\n",
    "acc_decisiontree_model=accuracy_score(y_pred, y_val)*100\n",
    "print(acc_decisiontree_model)"
   ]
  },
  {
   "cell_type": "markdown",
   "metadata": {
    "papermill": {
     "duration": 0.062801,
     "end_time": "2020-09-29T06:03:19.731245",
     "exception": false,
     "start_time": "2020-09-29T06:03:19.668444",
     "status": "completed"
    },
    "tags": []
   },
   "source": [
    "# Random Forest Clsiifier"
   ]
  },
  {
   "cell_type": "code",
   "execution_count": 32,
   "metadata": {
    "execution": {
     "iopub.execute_input": "2020-09-29T06:03:19.852649Z",
     "iopub.status.busy": "2020-09-29T06:03:19.851866Z",
     "iopub.status.idle": "2020-09-29T06:03:20.131475Z",
     "shell.execute_reply": "2020-09-29T06:03:20.132008Z"
    },
    "papermill": {
     "duration": 0.342702,
     "end_time": "2020-09-29T06:03:20.132166",
     "exception": false,
     "start_time": "2020-09-29T06:03:19.789464",
     "status": "completed"
    },
    "tags": []
   },
   "outputs": [
    {
     "name": "stdout",
     "output_type": "stream",
     "text": [
      "78.9237668161435\n"
     ]
    }
   ],
   "source": [
    "from sklearn.ensemble import RandomForestClassifier\n",
    "\n",
    "randomforest_model = RandomForestClassifier()\n",
    "randomforest_model.fit(x_train, y_train)\n",
    "y_pred = randomforest_model.predict(x_val)\n",
    "acc_randomforest =accuracy_score(y_pred, y_val) * 100\n",
    "print(acc_randomforest)"
   ]
  },
  {
   "cell_type": "markdown",
   "metadata": {
    "papermill": {
     "duration": 0.056334,
     "end_time": "2020-09-29T06:03:20.254500",
     "exception": false,
     "start_time": "2020-09-29T06:03:20.198166",
     "status": "completed"
    },
    "tags": []
   },
   "source": [
    "# KNN Model"
   ]
  },
  {
   "cell_type": "code",
   "execution_count": 33,
   "metadata": {
    "execution": {
     "iopub.execute_input": "2020-09-29T06:03:20.371591Z",
     "iopub.status.busy": "2020-09-29T06:03:20.370977Z",
     "iopub.status.idle": "2020-09-29T06:03:20.396885Z",
     "shell.execute_reply": "2020-09-29T06:03:20.397543Z"
    },
    "papermill": {
     "duration": 0.085374,
     "end_time": "2020-09-29T06:03:20.397703",
     "exception": false,
     "start_time": "2020-09-29T06:03:20.312329",
     "status": "completed"
    },
    "tags": []
   },
   "outputs": [
    {
     "name": "stdout",
     "output_type": "stream",
     "text": [
      "72.2\n"
     ]
    }
   ],
   "source": [
    "from sklearn.neighbors import KNeighborsClassifier\n",
    "\n",
    "knn_model = KNeighborsClassifier()\n",
    "knn_model.fit(x_train, y_train)\n",
    "y_pred = knn_model.predict(x_val)\n",
    "acc_knn_model = round(accuracy_score(y_pred, y_val) * 100, 2)\n",
    "print(acc_knn_model)"
   ]
  },
  {
   "cell_type": "markdown",
   "metadata": {
    "papermill": {
     "duration": 0.057106,
     "end_time": "2020-09-29T06:03:20.513827",
     "exception": false,
     "start_time": "2020-09-29T06:03:20.456721",
     "status": "completed"
    },
    "tags": []
   },
   "source": [
    "# SGDC Classifier"
   ]
  },
  {
   "cell_type": "code",
   "execution_count": 34,
   "metadata": {
    "execution": {
     "iopub.execute_input": "2020-09-29T06:03:20.638095Z",
     "iopub.status.busy": "2020-09-29T06:03:20.637242Z",
     "iopub.status.idle": "2020-09-29T06:03:20.648587Z",
     "shell.execute_reply": "2020-09-29T06:03:20.649324Z"
    },
    "papermill": {
     "duration": 0.078449,
     "end_time": "2020-09-29T06:03:20.649477",
     "exception": false,
     "start_time": "2020-09-29T06:03:20.571028",
     "status": "completed"
    },
    "tags": []
   },
   "outputs": [
    {
     "name": "stdout",
     "output_type": "stream",
     "text": [
      "61.43497757847533\n"
     ]
    }
   ],
   "source": [
    "from sklearn.linear_model import SGDClassifier\n",
    "\n",
    "sgd_model = SGDClassifier()\n",
    "sgd_model.fit(x_train, y_train)\n",
    "y_pred = sgd_model.predict(x_val)\n",
    "acc_sgd_model = accuracy_score(y_pred, y_val) * 100\n",
    "print(acc_sgd_model)"
   ]
  },
  {
   "cell_type": "markdown",
   "metadata": {
    "papermill": {
     "duration": 0.058661,
     "end_time": "2020-09-29T06:03:20.765875",
     "exception": false,
     "start_time": "2020-09-29T06:03:20.707214",
     "status": "completed"
    },
    "tags": []
   },
   "source": [
    "# Gradient Boosting Classifier"
   ]
  },
  {
   "cell_type": "markdown",
   "metadata": {
    "papermill": {
     "duration": 0.058027,
     "end_time": "2020-09-29T06:03:20.881047",
     "exception": false,
     "start_time": "2020-09-29T06:03:20.823020",
     "status": "completed"
    },
    "tags": []
   },
   "source": []
  },
  {
   "cell_type": "code",
   "execution_count": 35,
   "metadata": {
    "execution": {
     "iopub.execute_input": "2020-09-29T06:03:21.006832Z",
     "iopub.status.busy": "2020-09-29T06:03:21.005785Z",
     "iopub.status.idle": "2020-09-29T06:03:21.128993Z",
     "shell.execute_reply": "2020-09-29T06:03:21.127931Z"
    },
    "papermill": {
     "duration": 0.189419,
     "end_time": "2020-09-29T06:03:21.129175",
     "exception": false,
     "start_time": "2020-09-29T06:03:20.939756",
     "status": "completed"
    },
    "tags": []
   },
   "outputs": [
    {
     "name": "stdout",
     "output_type": "stream",
     "text": [
      "78.9237668161435\n"
     ]
    }
   ],
   "source": [
    "from sklearn.ensemble import GradientBoostingClassifier\n",
    "\n",
    "gbk_model = GradientBoostingClassifier()\n",
    "gbk_model.fit(x_train, y_train)\n",
    "y_pred = gbk_model.predict(x_val)\n",
    "acc_gbk_model= accuracy_score(y_pred, y_val) * 100\n",
    "print(acc_gbk_model)"
   ]
  },
  {
   "cell_type": "markdown",
   "metadata": {
    "papermill": {
     "duration": 0.057569,
     "end_time": "2020-09-29T06:03:21.245149",
     "exception": false,
     "start_time": "2020-09-29T06:03:21.187580",
     "status": "completed"
    },
    "tags": []
   },
   "source": [
    "# Model compare"
   ]
  },
  {
   "cell_type": "code",
   "execution_count": 36,
   "metadata": {
    "execution": {
     "iopub.execute_input": "2020-09-29T06:03:21.369500Z",
     "iopub.status.busy": "2020-09-29T06:03:21.368692Z",
     "iopub.status.idle": "2020-09-29T06:03:21.371208Z",
     "shell.execute_reply": "2020-09-29T06:03:21.371705Z"
    },
    "papermill": {
     "duration": 0.068656,
     "end_time": "2020-09-29T06:03:21.371844",
     "exception": false,
     "start_time": "2020-09-29T06:03:21.303188",
     "status": "completed"
    },
    "tags": []
   },
   "outputs": [],
   "source": [
    "compare =pd.DataFrame({\n",
    "    'model':['Support Vector Machines', 'KNN', 'Logistic Regression', \n",
    "              'Random Forest', \n",
    "              'Decision Tree', 'Stochastic Gradient Descent', 'Gradient Boosting Classifier'],\n",
    "    'Score': [acc_svc, acc_knn_model, acc_log, \n",
    "              acc_randomforest, acc_decisiontree_model,\n",
    "              acc_sgd_model, acc_gbk_model]\n",
    "})"
   ]
  },
  {
   "cell_type": "code",
   "execution_count": 37,
   "metadata": {
    "execution": {
     "iopub.execute_input": "2020-09-29T06:03:21.490653Z",
     "iopub.status.busy": "2020-09-29T06:03:21.490001Z",
     "iopub.status.idle": "2020-09-29T06:03:21.499836Z",
     "shell.execute_reply": "2020-09-29T06:03:21.500419Z"
    },
    "papermill": {
     "duration": 0.07124,
     "end_time": "2020-09-29T06:03:21.500572",
     "exception": false,
     "start_time": "2020-09-29T06:03:21.429332",
     "status": "completed"
    },
    "tags": []
   },
   "outputs": [
    {
     "data": {
      "text/html": [
       "<div>\n",
       "<style scoped>\n",
       "    .dataframe tbody tr th:only-of-type {\n",
       "        vertical-align: middle;\n",
       "    }\n",
       "\n",
       "    .dataframe tbody tr th {\n",
       "        vertical-align: top;\n",
       "    }\n",
       "\n",
       "    .dataframe thead th {\n",
       "        text-align: right;\n",
       "    }\n",
       "</style>\n",
       "<table border=\"1\" class=\"dataframe\">\n",
       "  <thead>\n",
       "    <tr style=\"text-align: right;\">\n",
       "      <th></th>\n",
       "      <th>model</th>\n",
       "      <th>Score</th>\n",
       "    </tr>\n",
       "  </thead>\n",
       "  <tbody>\n",
       "    <tr>\n",
       "      <th>0</th>\n",
       "      <td>Support Vector Machines</td>\n",
       "      <td>64.573991</td>\n",
       "    </tr>\n",
       "    <tr>\n",
       "      <th>1</th>\n",
       "      <td>KNN</td>\n",
       "      <td>72.200000</td>\n",
       "    </tr>\n",
       "    <tr>\n",
       "      <th>2</th>\n",
       "      <td>Logistic Regression</td>\n",
       "      <td>75.336323</td>\n",
       "    </tr>\n",
       "    <tr>\n",
       "      <th>3</th>\n",
       "      <td>Random Forest</td>\n",
       "      <td>78.923767</td>\n",
       "    </tr>\n",
       "    <tr>\n",
       "      <th>4</th>\n",
       "      <td>Decision Tree</td>\n",
       "      <td>76.233184</td>\n",
       "    </tr>\n",
       "    <tr>\n",
       "      <th>5</th>\n",
       "      <td>Stochastic Gradient Descent</td>\n",
       "      <td>61.434978</td>\n",
       "    </tr>\n",
       "    <tr>\n",
       "      <th>6</th>\n",
       "      <td>Gradient Boosting Classifier</td>\n",
       "      <td>78.923767</td>\n",
       "    </tr>\n",
       "  </tbody>\n",
       "</table>\n",
       "</div>"
      ],
      "text/plain": [
       "                          model      Score\n",
       "0       Support Vector Machines  64.573991\n",
       "1                           KNN  72.200000\n",
       "2           Logistic Regression  75.336323\n",
       "3                 Random Forest  78.923767\n",
       "4                 Decision Tree  76.233184\n",
       "5   Stochastic Gradient Descent  61.434978\n",
       "6  Gradient Boosting Classifier  78.923767"
      ]
     },
     "execution_count": 37,
     "metadata": {},
     "output_type": "execute_result"
    }
   ],
   "source": [
    "compare"
   ]
  },
  {
   "cell_type": "markdown",
   "metadata": {
    "papermill": {
     "duration": 0.066032,
     "end_time": "2020-09-29T06:03:21.632594",
     "exception": false,
     "start_time": "2020-09-29T06:03:21.566562",
     "status": "completed"
    },
    "tags": []
   },
   "source": [
    "# Submission data"
   ]
  },
  {
   "cell_type": "code",
   "execution_count": 38,
   "metadata": {
    "execution": {
     "iopub.execute_input": "2020-09-29T06:03:21.769137Z",
     "iopub.status.busy": "2020-09-29T06:03:21.768016Z",
     "iopub.status.idle": "2020-09-29T06:03:22.149398Z",
     "shell.execute_reply": "2020-09-29T06:03:22.148830Z"
    },
    "papermill": {
     "duration": 0.453266,
     "end_time": "2020-09-29T06:03:22.149511",
     "exception": false,
     "start_time": "2020-09-29T06:03:21.696245",
     "status": "completed"
    },
    "tags": []
   },
   "outputs": [],
   "source": [
    "ids = test['PassengerId']\n",
    "predictions = gbk_model.predict(test.drop('PassengerId', axis=1))\n",
    "\n",
    "output_file = pd.DataFrame({ 'PassengerId' : ids, 'Survived': predictions })\n",
    "output_file.to_csv('submission.csv', index=False)"
   ]
  },
  {
   "cell_type": "code",
   "execution_count": null,
   "metadata": {
    "papermill": {
     "duration": 0.057897,
     "end_time": "2020-09-29T06:03:22.265662",
     "exception": false,
     "start_time": "2020-09-29T06:03:22.207765",
     "status": "completed"
    },
    "tags": []
   },
   "outputs": [],
   "source": []
  }
 ],
 "metadata": {
  "kernelspec": {
   "display_name": "Python 3",
   "language": "python",
   "name": "python3"
  },
  "language_info": {
   "codemirror_mode": {
    "name": "ipython",
    "version": 3
   },
   "file_extension": ".py",
   "mimetype": "text/x-python",
   "name": "python",
   "nbconvert_exporter": "python",
   "pygments_lexer": "ipython3",
   "version": "3.7.6"
  },
  "papermill": {
   "duration": 19.271034,
   "end_time": "2020-09-29T06:03:23.431244",
   "environment_variables": {},
   "exception": null,
   "input_path": "__notebook__.ipynb",
   "output_path": "__notebook__.ipynb",
   "parameters": {},
   "start_time": "2020-09-29T06:03:04.160210",
   "version": "2.1.0"
  }
 },
 "nbformat": 4,
 "nbformat_minor": 4
}
